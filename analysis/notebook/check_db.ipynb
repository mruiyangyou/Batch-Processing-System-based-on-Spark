{
 "cells": [
  {
   "cell_type": "code",
   "execution_count": 12,
   "metadata": {},
   "outputs": [],
   "source": [
    "import sys\n",
    "sys.path.append('..')\n",
    "\n",
    "from utils import * \n",
    "import os\n",
    "import pandas as pd\n",
    "from sqlalchemy import inspect \n",
    "from sqlalchemy import text, Column, String, Integer\n",
    "from sqlalchemy.orm import declarative_base"
   ]
  },
  {
   "cell_type": "markdown",
   "metadata": {},
   "source": [
    "## Set connection"
   ]
  },
  {
   "cell_type": "code",
   "execution_count": 13,
   "metadata": {},
   "outputs": [],
   "source": [
    "os.environ['username'] = 'ruiyang'\n",
    "os.environ['password'] = '123456'\n",
    "engine = postgres_connection('coursework')"
   ]
  },
  {
   "cell_type": "markdown",
   "metadata": {},
   "source": [
    "## Check whether table **prediction** exist "
   ]
  },
  {
   "cell_type": "code",
   "execution_count": 14,
   "metadata": {},
   "outputs": [],
   "source": [
    "with engine.connect() as conn:\n",
    "    res = conn.execute(text(\"SELECT * FROM prediction;\")).all()"
   ]
  },
  {
   "cell_type": "code",
   "execution_count": 15,
   "metadata": {},
   "outputs": [
    {
     "data": {
      "text/plain": [
       "0"
      ]
     },
     "execution_count": 15,
     "metadata": {},
     "output_type": "execute_result"
    }
   ],
   "source": [
    "len(res)"
   ]
  },
  {
   "cell_type": "markdown",
   "metadata": {},
   "source": [
    "## Check how many tables"
   ]
  },
  {
   "cell_type": "code",
   "execution_count": 16,
   "metadata": {},
   "outputs": [
    {
     "data": {
      "text/plain": [
       "['prediction']"
      ]
     },
     "execution_count": 16,
     "metadata": {},
     "output_type": "execute_result"
    }
   ],
   "source": [
    "inspect = inspect(engine)\n",
    "\n",
    "inspect.get_table_names()"
   ]
  },
  {
   "cell_type": "markdown",
   "metadata": {},
   "source": [
    "## create prediction table"
   ]
  },
  {
   "cell_type": "code",
   "execution_count": 10,
   "metadata": {},
   "outputs": [
    {
     "name": "stdout",
     "output_type": "stream",
     "text": [
      "[(1,)]\n",
      "connection successful!\n",
      "Creating prediction table successful!\n"
     ]
    }
   ],
   "source": [
    "database = 'coursework'\n",
    "engine = postgres_connection(database)\n",
    "\n",
    "with engine.connect() as conn:\n",
    "    result = conn.execute(text(\"SELECT 1;\"))\n",
    "    print(result.all())\n",
    "    print(\"connection successful!\")\n",
    "\n",
    "\n",
    "Base = declarative_base()\n",
    "\n",
    "class Prediction(Base):\n",
    "    __tablename__ = 'prediction'\n",
    "    id = Column(Integer, primary_key=True, autoincrement=True)\n",
    "    text = Column(String)\n",
    "    label = Column(String)\n",
    "    jobid = Column(String, index=True) \n",
    "    # jobid = Column(String)\n",
    "\n",
    "Base.metadata.create_all(engine)\n",
    "print(\"Creating prediction table successful!\")\n"
   ]
  },
  {
   "cell_type": "markdown",
   "metadata": {},
   "source": [
    "## Remove prediction table"
   ]
  },
  {
   "cell_type": "code",
   "execution_count": 6,
   "metadata": {},
   "outputs": [
    {
     "name": "stdout",
     "output_type": "stream",
     "text": [
      "prediction has been dropped!\n"
     ]
    }
   ],
   "source": [
    "remove_table('prediction', engine)"
   ]
  },
  {
   "cell_type": "markdown",
   "metadata": {},
   "source": [
    "## Test inserting data from pandas"
   ]
  },
  {
   "cell_type": "code",
   "execution_count": 5,
   "metadata": {},
   "outputs": [
    {
     "data": {
      "text/html": [
       "<div>\n",
       "<style scoped>\n",
       "    .dataframe tbody tr th:only-of-type {\n",
       "        vertical-align: middle;\n",
       "    }\n",
       "\n",
       "    .dataframe tbody tr th {\n",
       "        vertical-align: top;\n",
       "    }\n",
       "\n",
       "    .dataframe thead th {\n",
       "        text-align: right;\n",
       "    }\n",
       "</style>\n",
       "<table border=\"1\" class=\"dataframe\">\n",
       "  <thead>\n",
       "    <tr style=\"text-align: right;\">\n",
       "      <th></th>\n",
       "      <th>text</th>\n",
       "      <th>label</th>\n",
       "      <th>jobid</th>\n",
       "    </tr>\n",
       "  </thead>\n",
       "  <tbody>\n",
       "    <tr>\n",
       "      <th>0</th>\n",
       "      <td>\"I rented I AM CURIOUS-YELLOW from my video st...</td>\n",
       "      <td>negative</td>\n",
       "      <td>20240404175055</td>\n",
       "    </tr>\n",
       "    <tr>\n",
       "      <th>1</th>\n",
       "      <td>\"\"\"I Am Curious: Yellow\"\" is a risible and pre...</td>\n",
       "      <td>negative</td>\n",
       "      <td>20240404175055</td>\n",
       "    </tr>\n",
       "    <tr>\n",
       "      <th>2</th>\n",
       "      <td>If only to avoid making this type of film in t...</td>\n",
       "      <td>negative</td>\n",
       "      <td>20240404175055</td>\n",
       "    </tr>\n",
       "    <tr>\n",
       "      <th>3</th>\n",
       "      <td>This film was probably inspired by Godard's Ma...</td>\n",
       "      <td>positive</td>\n",
       "      <td>20240404175055</td>\n",
       "    </tr>\n",
       "    <tr>\n",
       "      <th>4</th>\n",
       "      <td>\"Oh, brother...after hearing about this ridicu...</td>\n",
       "      <td>negative</td>\n",
       "      <td>20240404175055</td>\n",
       "    </tr>\n",
       "    <tr>\n",
       "      <th>...</th>\n",
       "      <td>...</td>\n",
       "      <td>...</td>\n",
       "      <td>...</td>\n",
       "    </tr>\n",
       "    <tr>\n",
       "      <th>99995</th>\n",
       "      <td>License To Kill (1989) is an inanely dismal in...</td>\n",
       "      <td>positive</td>\n",
       "      <td>20240404175055</td>\n",
       "    </tr>\n",
       "    <tr>\n",
       "      <th>99996</th>\n",
       "      <td>\"I love watching a James Bond. It's not very i...</td>\n",
       "      <td>negative</td>\n",
       "      <td>20240404175055</td>\n",
       "    </tr>\n",
       "    <tr>\n",
       "      <th>99997</th>\n",
       "      <td>\"I can't decide what was the worst thing about...</td>\n",
       "      <td>negative</td>\n",
       "      <td>20240404175055</td>\n",
       "    </tr>\n",
       "    <tr>\n",
       "      <th>99998</th>\n",
       "      <td>UGH... As an adorer of the James Bond characte...</td>\n",
       "      <td>negative</td>\n",
       "      <td>20240404175055</td>\n",
       "    </tr>\n",
       "    <tr>\n",
       "      <th>99999</th>\n",
       "      <td>\"I do firmly believe that the revue on this fi...</td>\n",
       "      <td>positive</td>\n",
       "      <td>20240404175055</td>\n",
       "    </tr>\n",
       "  </tbody>\n",
       "</table>\n",
       "<p>100000 rows × 3 columns</p>\n",
       "</div>"
      ],
      "text/plain": [
       "                                                    text     label  \\\n",
       "0      \"I rented I AM CURIOUS-YELLOW from my video st...  negative   \n",
       "1      \"\"\"I Am Curious: Yellow\"\" is a risible and pre...  negative   \n",
       "2      If only to avoid making this type of film in t...  negative   \n",
       "3      This film was probably inspired by Godard's Ma...  positive   \n",
       "4      \"Oh, brother...after hearing about this ridicu...  negative   \n",
       "...                                                  ...       ...   \n",
       "99995  License To Kill (1989) is an inanely dismal in...  positive   \n",
       "99996  \"I love watching a James Bond. It's not very i...  negative   \n",
       "99997  \"I can't decide what was the worst thing about...  negative   \n",
       "99998  UGH... As an adorer of the James Bond characte...  negative   \n",
       "99999  \"I do firmly believe that the revue on this fi...  positive   \n",
       "\n",
       "                jobid  \n",
       "0      20240404175055  \n",
       "1      20240404175055  \n",
       "2      20240404175055  \n",
       "3      20240404175055  \n",
       "4      20240404175055  \n",
       "...               ...  \n",
       "99995  20240404175055  \n",
       "99996  20240404175055  \n",
       "99997  20240404175055  \n",
       "99998  20240404175055  \n",
       "99999  20240404175055  \n",
       "\n",
       "[100000 rows x 3 columns]"
      ]
     },
     "execution_count": 5,
     "metadata": {},
     "output_type": "execute_result"
    }
   ],
   "source": [
    "df = pd.read_csv(\"s3://comp0239-ucabryo/result/20240404175055.csv\")\n",
    "df"
   ]
  },
  {
   "cell_type": "code",
   "execution_count": 6,
   "metadata": {},
   "outputs": [
    {
     "data": {
      "text/plain": [
       "1000"
      ]
     },
     "execution_count": 6,
     "metadata": {},
     "output_type": "execute_result"
    }
   ],
   "source": [
    "df.to_sql('prediction', con = engine.connect(), if_exists='append', index = False)"
   ]
  }
 ],
 "metadata": {
  "kernelspec": {
   "display_name": "Python 3",
   "language": "python",
   "name": "python3"
  },
  "language_info": {
   "codemirror_mode": {
    "name": "ipython",
    "version": 3
   },
   "file_extension": ".py",
   "mimetype": "text/x-python",
   "name": "python",
   "nbconvert_exporter": "python",
   "pygments_lexer": "ipython3",
   "version": "3.9.18"
  }
 },
 "nbformat": 4,
 "nbformat_minor": 2
}
